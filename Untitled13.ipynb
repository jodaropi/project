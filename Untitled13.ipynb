{
 "cells": [
  {
   "cell_type": "markdown",
   "id": "3a8867ef",
   "metadata": {},
   "source": [
    "# MY FIRST PROJECT\n",
    "\n",
    "in this Jupyter notebook, the purpose is to showcase what has been learned throughout the course and demonstrate my acquired knowledge."
   ]
  },
  {
   "cell_type": "markdown",
   "id": "ef4f23a6",
   "metadata": {},
   "source": [
    "## Data science languages\n",
    "\n",
    "PYTHON\n",
    "\n",
    "R\n",
    "\n",
    "SQL\n",
    "\n",
    "SCALA\n",
    "\n",
    "C++\n",
    "\n",
    "JULIA\n",
    "\n",
    "JAVA SCRIPT\n",
    "\n",
    "RUBY\n",
    "\n",
    "GO\n",
    "\n",
    "VISUAL BASIC"
   ]
  },
  {
   "cell_type": "markdown",
   "id": "9e1da5ad",
   "metadata": {},
   "source": [
    "## Libraries in data science  \n",
    "\n",
    "The libraries used for data science are NumPy,SciPy,Matplotlib,TensorFlow,PyTorch,Keras, Scikit-learn,vegas,BigDL,ggplot2\n"
   ]
  },
  {
   "cell_type": "markdown",
   "id": "e253acd1",
   "metadata": {},
   "source": [
    "## Tools for data science \n",
    "\n",
    "Next, a table will be presented with different tools for data management, data integration and transformation, data visualization, model implementation, and finally, model monitoring and evaluation.\""
   ]
  },
  {
   "cell_type": "code",
   "execution_count": 2,
   "id": "117ce8f1",
   "metadata": {},
   "outputs": [
    {
     "data": {
      "text/html": [
       "<div>\n",
       "<style scoped>\n",
       "    .dataframe tbody tr th:only-of-type {\n",
       "        vertical-align: middle;\n",
       "    }\n",
       "\n",
       "    .dataframe tbody tr th {\n",
       "        vertical-align: top;\n",
       "    }\n",
       "\n",
       "    .dataframe thead th {\n",
       "        text-align: right;\n",
       "    }\n",
       "</style>\n",
       "<table border=\"1\" class=\"dataframe\">\n",
       "  <thead>\n",
       "    <tr style=\"text-align: right;\">\n",
       "      <th></th>\n",
       "      <th>data management</th>\n",
       "      <th>data integration and transformation</th>\n",
       "      <th>data visualization</th>\n",
       "      <th>model deployment</th>\n",
       "      <th>model monitoring and evaluation</th>\n",
       "    </tr>\n",
       "  </thead>\n",
       "  <tbody>\n",
       "    <tr>\n",
       "      <th>0</th>\n",
       "      <td>MySQL</td>\n",
       "      <td>Kubeflow</td>\n",
       "      <td>PixieDust</td>\n",
       "      <td>predictionIO</td>\n",
       "      <td>ModelIDB</td>\n",
       "    </tr>\n",
       "    <tr>\n",
       "      <th>1</th>\n",
       "      <td>PostgreSQL</td>\n",
       "      <td>apache kafka</td>\n",
       "      <td>superset</td>\n",
       "      <td>seldon</td>\n",
       "      <td>Prometheus</td>\n",
       "    </tr>\n",
       "    <tr>\n",
       "      <th>2</th>\n",
       "      <td>mongoDB</td>\n",
       "      <td>apache airflow</td>\n",
       "      <td>kibana</td>\n",
       "      <td>mleap</td>\n",
       "      <td>IBM research trusted IA</td>\n",
       "    </tr>\n",
       "    <tr>\n",
       "      <th>3</th>\n",
       "      <td>Cassandra</td>\n",
       "      <td>Node-Red</td>\n",
       "      <td>Hue</td>\n",
       "      <td>tensorflow serving</td>\n",
       "      <td>AI explainability 360</td>\n",
       "    </tr>\n",
       "  </tbody>\n",
       "</table>\n",
       "</div>"
      ],
      "text/plain": [
       "  data management data integration and transformation data visualization  \\\n",
       "0           MySQL                            Kubeflow          PixieDust   \n",
       "1      PostgreSQL                        apache kafka           superset   \n",
       "2         mongoDB                      apache airflow             kibana   \n",
       "3       Cassandra                            Node-Red                Hue   \n",
       "\n",
       "     model deployment model monitoring and evaluation  \n",
       "0        predictionIO                        ModelIDB  \n",
       "1              seldon                      Prometheus  \n",
       "2               mleap         IBM research trusted IA  \n",
       "3  tensorflow serving           AI explainability 360  "
      ]
     },
     "execution_count": 2,
     "metadata": {},
     "output_type": "execute_result"
    }
   ],
   "source": [
    "import pandas as pd\n",
    "data= { \"data management\" : [\"MySQL\",\"PostgreSQL\",\"mongoDB\",\"Cassandra\"]\n",
    "       ,\"data integration and transformation\" : [\"Kubeflow\",\"apache kafka\",\"apache airflow\",\"Node-Red\"]\n",
    "       , \"data visualization\" : [\"PixieDust\",\"superset\",\"kibana\",\"Hue\"]\n",
    "       ,\"model deployment\" : [\"predictionIO\",\"seldon\",\"mleap\",\"tensorflow serving\"]\n",
    "       , \"model monitoring and evaluation\" : [\"ModelIDB\",\"Prometheus\",\"IBM research trusted IA\",\"AI explainability 360\"]}\n",
    "pd.DataFrame(data)"
   ]
  },
  {
   "cell_type": "markdown",
   "id": "b74b8898",
   "metadata": {},
   "source": [
    "## Example of arithmetic expressions\n",
    "\n",
    "These are, for example, additions, subtractions, multiplications, and divisions. An example of this is 2*5(9-4*2)"
   ]
  },
  {
   "cell_type": "markdown",
   "id": "42098025",
   "metadata": {},
   "source": [
    "## Code cell for additions and multiplications"
   ]
  },
  {
   "cell_type": "code",
   "execution_count": 8,
   "id": "9a00ee70",
   "metadata": {},
   "outputs": [
    {
     "data": {
      "text/plain": [
       "12"
      ]
     },
     "execution_count": 8,
     "metadata": {},
     "output_type": "execute_result"
    }
   ],
   "source": [
    "(2+2)*3"
   ]
  },
  {
   "cell_type": "markdown",
   "id": "eb04c24a",
   "metadata": {},
   "source": [
    "## Converting minutes to hours"
   ]
  },
  {
   "cell_type": "code",
   "execution_count": 10,
   "id": "e5bc051e",
   "metadata": {},
   "outputs": [
    {
     "name": "stdout",
     "output_type": "stream",
     "text": [
      "Enter the minutes you want to convert: 120\n",
      "2.0\n"
     ]
    }
   ],
   "source": [
    "x=int(input(\"Enter the minutes you want to convert: \"))\n",
    "hours= x/60\n",
    "print(hours)"
   ]
  },
  {
   "cell_type": "markdown",
   "id": "d2f78431",
   "metadata": {},
   "source": [
    "##  Author's name\n",
    "\n",
    "Jonatan David Rodas Piedrahita "
   ]
  },
  {
   "cell_type": "code",
   "execution_count": null,
   "id": "a1ae0e05",
   "metadata": {},
   "outputs": [],
   "source": []
  }
 ],
 "metadata": {
  "kernelspec": {
   "display_name": "Python 3 (ipykernel)",
   "language": "python",
   "name": "python3"
  },
  "language_info": {
   "codemirror_mode": {
    "name": "ipython",
    "version": 3
   },
   "file_extension": ".py",
   "mimetype": "text/x-python",
   "name": "python",
   "nbconvert_exporter": "python",
   "pygments_lexer": "ipython3",
   "version": "3.11.5"
  }
 },
 "nbformat": 4,
 "nbformat_minor": 5
}
